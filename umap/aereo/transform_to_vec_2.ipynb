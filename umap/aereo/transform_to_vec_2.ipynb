{
 "cells": [
  {
   "cell_type": "code",
   "execution_count": 1,
   "id": "4e7a2043",
   "metadata": {},
   "outputs": [],
   "source": [
    "import pandas as pd\n",
    "import numpy as np\n",
    "import node2vec\n",
    "import networkx as nx\n",
    "import matplotlib.pyplot as plt"
   ]
  },
  {
   "cell_type": "markdown",
   "id": "ac6a7aef",
   "metadata": {},
   "source": [
    "Read Files and Generate Graph"
   ]
  },
  {
   "cell_type": "code",
   "execution_count": 2,
   "id": "c8eb2f15",
   "metadata": {},
   "outputs": [
    {
     "name": "stdout",
     "output_type": "stream",
     "text": [
      "  Source airport Destination airport  Distance_km\n",
      "0            AER                 KZN  1506.825604\n",
      "1            ASF                 KZN  1040.438320\n",
      "2            ASF                 MRV   448.164909\n",
      "3            CEK                 KZN   770.508500\n",
      "4            CEK                 OVB  1338.631467\n",
      "Number of routes: 67663\n",
      "Routes with missing distances: 729\n"
     ]
    }
   ],
   "source": [
    "routes_df = pd.read_csv('routes.csv')\n",
    "routes_df = routes_df[['Source airport', 'Destination airport']]\n",
    "routes_df = routes_df.dropna()\n",
    "\n",
    "airports_df = pd.read_csv('airports.csv')\n",
    "airports_df = airports_df[['IATA', 'ICAO', 'Latitude', 'Longitude']]\n",
    "airports_df = airports_df.dropna()\n",
    "airports_df = airports_df.drop_duplicates(subset=['IATA'])\n",
    "\n",
    "source_airports_info = airports_df.rename(\n",
    "    columns={'IATA': 'Source airport', 'Latitude': 'Source_Latitude', 'Longitude': 'Source_Longitude'}\n",
    ")\n",
    "destination_airports_info = airports_df.rename(\n",
    "    columns={'IATA': 'Destination airport', 'Latitude': 'Dest_Latitude', 'Longitude': 'Dest_Longitude'}\n",
    ")\n",
    "\n",
    "merged_df = pd.merge(routes_df, source_airports_info[['Source airport', 'Source_Latitude', 'Source_Longitude']], on='Source airport', how='left')\n",
    "merged_df = pd.merge(merged_df, destination_airports_info[['Destination airport', 'Dest_Latitude', 'Dest_Longitude']], on='Destination airport', how='left')\n",
    "\n",
    "merged_df = merged_df.dropna(subset=['Source_Latitude', 'Source_Longitude', 'Dest_Latitude', 'Dest_Longitude'])\n",
    "\n",
    "def haversine(lat1, lon1, lat2, lon2, earth_radius=6371):\n",
    "    \"\"\"\n",
    "    Calculate the great circle distance between two points\n",
    "    on the earth (specified in decimal degrees)\n",
    "    \"\"\"\n",
    "    # Convert decimal degrees to radians\n",
    "    lat1, lon1, lat2, lon2 = map(np.radians, [lat1, lon1, lat2, lon2])\n",
    "\n",
    "    # Haversine formula\n",
    "    dlon = lon2 - lon1\n",
    "    dlat = lat2 - lat1\n",
    "    a = np.sin(dlat/2)**2 + np.cos(lat1) * np.cos(lat2) * np.sin(dlon/2)**2\n",
    "    c = 2 * np.arcsin(np.sqrt(a))\n",
    "    distance = earth_radius * c\n",
    "    return distance\n",
    "\n",
    "# Calculate distance for each route\n",
    "merged_df['Distance_km'] = merged_df.apply(\n",
    "    lambda row: haversine(row['Source_Latitude'], row['Source_Longitude'],\n",
    "                          row['Dest_Latitude'], row['Dest_Longitude']),\n",
    "    axis=1\n",
    ")\n",
    "\n",
    "# Assign the result back to routes_df or use merged_df\n",
    "routes_df['Distance_km'] = merged_df['Distance_km']\n",
    "\n",
    "# Display the first few rows with the new distance column\n",
    "print(routes_df.head())\n",
    "print(f\"Number of routes: {len(routes_df)}\")\n",
    "print(f\"Routes with missing distances: {routes_df['Distance_km'].isnull().sum()}\")"
   ]
  },
  {
   "cell_type": "code",
   "execution_count": 3,
   "id": "93bb3847",
   "metadata": {},
   "outputs": [
    {
     "data": {
      "image/png": "[encoded data removed]",
      "text/plain": [
       "<Figure size 640x480 with 1 Axes>"
      ]
     },
     "metadata": {},
     "output_type": "display_data"
    }
   ],
   "source": [
    "# Generate a graph from the routes DataFrame\n",
    "G = nx.from_pandas_edgelist(routes_df, 'Source airport', 'Destination airport', ['Distance_km'])\n",
    "# Convert to undirected graph\n",
    "G = G.to_undirected()\n",
    "\n",
    "# Show graph\n",
    "nx.draw(G, with_labels=False, node_size=50, font_size=8)\n",
    "plt.show()"
   ]
  },
  {
   "cell_type": "markdown",
   "id": "8b9f9946",
   "metadata": {},
   "source": [
    "Generate Embedding"
   ]
  },
  {
   "cell_type": "code",
   "execution_count": 13,
   "id": "a87c1cd5",
   "metadata": {},
   "outputs": [
    {
     "data": {
      "application/vnd.jupyter.widget-view+json": {
       "model_id": "07a33e4065ba4408ac97d0c4cdf8a738",
       "version_major": 2,
       "version_minor": 0
      },
      "text/plain": [
       "Computing transition probabilities:   0%|          | 0/3425 [00:00<?, ?it/s]"
      ]
     },
     "metadata": {},
     "output_type": "display_data"
    }
   ],
   "source": [
    "# Generate node embeddings using Node2Vec\n",
    "node2vec = node2vec.Node2Vec(G, dimensions=256, walk_length=30, num_walks=200, workers=24, p=0.25, q=4, weight_key='weight')\n",
    "# Fit the model\n",
    "model = node2vec.fit(window=10, min_count=1, batch_words=4)\n",
    "# Save the embeddings to a file\n",
    "model.wv.save_word2vec_format('node_embeddings_high_q.txt')\n",
    "# Save the model\n",
    "model.save('node2vec_model_high_q.model')"
   ]
  }
 ],
 "metadata": {
  "kernelspec": {
   "display_name": "base",
   "language": "python",
   "name": "python3"
  },
  "language_info": {
   "codemirror_mode": {
    "name": "ipython",
    "version": 3
   },
   "file_extension": ".py",
   "mimetype": "text/x-python",
   "name": "python",
   "nbconvert_exporter": "python",
   "pygments_lexer": "ipython3",
   "version": "3.11.5"
  }
 },
 "nbformat": 4,
 "nbformat_minor": 5
}
