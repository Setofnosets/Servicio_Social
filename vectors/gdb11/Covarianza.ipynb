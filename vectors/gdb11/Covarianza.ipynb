{
 "cells": [
  {
   "cell_type": "code",
   "execution_count": 1,
   "metadata": {},
   "outputs": [],
   "source": [
    "from mol2vec import features\n",
    "from mol2vec.helpers import depict_identifier\n",
    "from rdkit import Chem\n",
    "from openbabel import openbabel\n",
    "import os\n",
    "import pandas as pd\n",
    "import gensim as gs\n",
    "import numpy as np"
   ]
  },
  {
   "cell_type": "markdown",
   "metadata": {},
   "source": [
    "Leer salidas de mol2vec y generar dataframe"
   ]
  },
  {
   "cell_type": "code",
   "execution_count": 2,
   "metadata": {},
   "outputs": [
    {
     "name": "stdout",
     "output_type": "stream",
     "text": [
      "   Unnamed: 0 Smiles  ID  mol2vec-000  mol2vec-001  mol2vec-002  mol2vec-003  \\\n",
      "0           0     CC   1    -0.591409    -0.250325     0.630409     0.835077   \n",
      "1           1     CN   2     0.144022    -0.029161     0.302329     0.355394   \n",
      "2           2     CO   3     0.095167    -0.244361     0.299303     0.151503   \n",
      "3           3     CF   4    -0.532656    -0.316479    -0.232062     0.240368   \n",
      "4           4     FF   5    -0.473902    -0.382634    -1.094533    -0.354341   \n",
      "\n",
      "   mol2vec-004  mol2vec-005  mol2vec-006  ...  mol2vec-290  mol2vec-291  \\\n",
      "0     0.160757    -0.696366    -0.000482  ...    -0.963762    -0.743718   \n",
      "1     0.040197    -0.722157    -0.135475  ...    -0.733461    -0.638595   \n",
      "2     0.383190    -0.781686     0.265358  ...    -0.632573    -0.442339   \n",
      "3     0.017260    -0.248504    -0.381119  ...    -0.688271    -0.802084   \n",
      "4    -0.126237     0.199359    -0.761755  ...    -0.412781    -0.860451   \n",
      "\n",
      "   mol2vec-292  mol2vec-293  mol2vec-294  mol2vec-295  mol2vec-296  \\\n",
      "0    -0.457021     0.588556     0.307283     0.361335     0.307392   \n",
      "1    -0.560541     0.378052     0.539490     0.155971    -0.058457   \n",
      "2    -0.419032     0.526888     0.295434     0.428136    -0.301855   \n",
      "3    -0.171135     0.248561     0.127516     0.294105    -0.113103   \n",
      "4     0.114751    -0.091434    -0.052252     0.226875    -0.533597   \n",
      "\n",
      "   mol2vec-297  mol2vec-298  mol2vec-299  \n",
      "0    -1.807978    -0.837226     0.141867  \n",
      "1    -1.426573    -0.343950     0.255414  \n",
      "2    -0.943233    -0.488908    -0.326114  \n",
      "3    -0.926419    -0.204621    -0.046355  \n",
      "4    -0.044860     0.427984    -0.234576  \n",
      "\n",
      "[5 rows x 303 columns]\n",
      "Unnamed: 0     79585\n",
      "Smiles         79585\n",
      "ID             79585\n",
      "mol2vec-000    79585\n",
      "mol2vec-001    79585\n",
      "               ...  \n",
      "mol2vec-295    79585\n",
      "mol2vec-296    79585\n",
      "mol2vec-297    79585\n",
      "mol2vec-298    79585\n",
      "mol2vec-299    79585\n",
      "Length: 303, dtype: int64\n"
     ]
    }
   ],
   "source": [
    "for i in range(2, 9):\n",
    "    if i == 2:\n",
    "        df = pd.read_csv(f\"out{i:02d}.csv\")\n",
    "    else:\n",
    "        df = pd.concat([df, pd.read_csv(f\"out{i:02d}.csv\")])\n",
    "print(df.head())\n",
    "print(df.count())"
   ]
  },
  {
   "cell_type": "markdown",
   "metadata": {},
   "source": [
    "Covarianza"
   ]
  },
  {
   "cell_type": "code",
   "execution_count": null,
   "metadata": {},
   "outputs": [
    {
     "name": "stdout",
     "output_type": "stream",
     "text": [
      "[[-0.48540464  1.48417614 -0.07246542 ...  1.71731839  0.84357552\n",
      "   1.11619758]\n",
      " [ 0.08997414  1.66486901 -0.37556211 ...  1.96256877  1.21297617\n",
      "   1.22068573]\n",
      " [ 0.05175118  1.48904851 -0.3783576  ...  2.2733643   1.10442127\n",
      "   0.68555236]\n",
      " ...\n",
      " [ 0.5448716  -1.46595083 -1.1804481  ... -2.18324595 -0.44736237\n",
      "  -0.89514943]\n",
      " [ 0.77788042 -1.97359067 -2.04652889 ... -1.62023764 -0.46443843\n",
      "  -1.05395604]\n",
      " [ 0.8360615  -1.56541855 -1.32258781 ... -2.0858185  -1.20081786\n",
      "   0.20950131]]\n"
     ]
    }
   ],
   "source": [
    "matrix = df[df.columns[3:]].values\n",
    "\n",
    "# Estandarizar\n",
    "mean = np.mean(matrix, axis=0)\n",
    "std = np.std(matrix, axis=0)\n",
    "matrix = (matrix - mean) / std\n",
    "cov_matrix = np.cov(matrix.T)\n",
    "#print(cov_matrix)\n",
    "\n",
    "# Calcular eigenvectores y eigenvalores\n",
    "eig_vals, eig_vecs = np.linalg.eig(cov_matrix)\n",
    "#print(eig_vals)\n",
    "\n",
    "# Matriz diagonal\n",
    "diag_matrix = np.diag(eig_vals)\n",
    "#print(diag_matrix)\n"
   ]
  },
  {
   "cell_type": "markdown",
   "metadata": {},
   "source": [
    "Crear molécula objetivo"
   ]
  },
  {
   "cell_type": "code",
   "execution_count": 2,
   "metadata": {},
   "outputs": [
    {
     "name": "stdout",
     "output_type": "stream",
     "text": [
      "(300,)\n"
     ]
    },
    {
     "name": "stderr",
     "output_type": "stream",
     "text": [
      "[16:38:21] DEPRECATION WARNING: please use MorganGenerator\n"
     ]
    }
   ],
   "source": [
    "molecula = Chem.MolFromSmiles('OC1=CNC=N1')\n",
    "#molecula = Chem.MolFromSmiles('CC1CC(=O)N1')\n",
    "sentence = features.mol2alt_sentence(molecula, 1)\n",
    "model = gs.models.Word2Vec.load('model.plk')\n",
    "vec = features.sentences2vec([sentence], model) #NOTA: mol2vec utiliza la suma de los vectores de las moleculas, no el promedio\n",
    "vec_1d = vec.reshape(-1)\n",
    "print(vec_1d.shape)\n"
   ]
  },
  {
   "cell_type": "markdown",
   "metadata": {},
   "source": [
    "Calcular distancias"
   ]
  },
  {
   "cell_type": "code",
   "execution_count": 1,
   "metadata": {},
   "outputs": [
    {
     "name": "stderr",
     "output_type": "stream",
     "text": [
      "c:\\Users\\locua\\anaconda3\\Lib\\site-packages\\cupy\\_environment.py:217: UserWarning: CUDA path could not be detected. Set CUDA_PATH environment variable if CuPy fails to load.\n",
      "  warnings.warn(\n"
     ]
    }
   ],
   "source": [
    "# Necesita cupy\n",
    "import cupy as cp\n",
    "def mahalanobis_CU(u, v, VI):\n",
    "    u = cp.asarray(u)\n",
    "    v = cp.asarray(v)\n",
    "    VI = np.atleast_2d(VI)\n",
    "    VI = cp.asarray(VI)\n",
    "    delta = cp.subtract(u, v)\n",
    "    m = cp.dot(cp.dot(delta, VI), delta)\n",
    "    return cp.sqrt(m).get()"
   ]
  },
  {
   "cell_type": "code",
   "execution_count": 65,
   "metadata": {},
   "outputs": [],
   "source": [
    "from scipy.spatial.distance import mahalanobis\n",
    "for index, row in df.iterrows():\n",
    "    vec2 = row[3:]\n",
    "    vec2 = np.array(vec2)\n",
    "    vec2_1d = vec2.reshape(-1)\n",
    "\n",
    "    #Distancia de mahalanobis\n",
    "    dist = mahalanobis(vec_1d, vec2_1d, np.ling.inv(cov_matrix))\n",
    "    df.at[index, 'mahalanobis'] = dist\n",
    "\n",
    "    #Distancia euclidiana\n",
    "    dist = np.linalg.norm(vec - vec2)\n",
    "    df.at[index, 'euclidean'] = dist\n",
    "\n",
    "    #Distancia de mahanobis diagonal\n",
    "    dist = mahalanobis(vec_1d, vec2_1d, np.linalg.inv(diag_matrix))\n",
    "    df.at[index, 'mahalanobis_diag'] = dist"
   ]
  },
  {
   "cell_type": "markdown",
   "metadata": {},
   "source": [
    "Guardar data frame"
   ]
  },
  {
   "cell_type": "code",
   "execution_count": 74,
   "metadata": {},
   "outputs": [],
   "source": [
    "file = open('out_df.csv', 'w')\n",
    "file.write(df.to_csv(index=False))\n",
    "file.close()"
   ]
  },
  {
   "cell_type": "markdown",
   "metadata": {},
   "source": [
    "Leer dataframe"
   ]
  },
  {
   "cell_type": "code",
   "execution_count": 6,
   "metadata": {},
   "outputs": [],
   "source": [
    "file = open('out_df.csv', 'r')\n",
    "df = None\n",
    "df = pd.read_csv(file)"
   ]
  },
  {
   "cell_type": "code",
   "execution_count": 7,
   "metadata": {},
   "outputs": [
    {
     "name": "stdout",
     "output_type": "stream",
     "text": [
      "                  Smiles  mahalanobis\n",
      "50716     O=c1nc[nH]cc1O    21.519855\n",
      "70257      OCc1c[nH]cc1O    24.467704\n",
      "70256      CCc1c[nH]cc1O    24.748616\n",
      "79323  c1nc(C2CC2)c[nH]1    24.976893\n",
      "70367     C=Cc1c[nH]cc1O    25.251691\n",
      "57530      FCCc1c[nH]cn1    25.272162\n",
      "57527      CCCc1c[nH]cn1    25.298696\n",
      "50993     O=c1cc[nH]cc1O    25.333395\n",
      "70258      Oc1c[nH]cc1CF    25.387583\n",
      "70838      NCc1c[nH]cc1O    25.387730\n",
      "                  Smiles  euclidean\n",
      "50716     O=c1nc[nH]cc1O  12.461014\n",
      "44693   O=c1ncc(O)c[nH]1  13.342111\n",
      "50993     O=c1cc[nH]cc1O  13.479823\n",
      "51331     N=c1cc[nH]nc1O  13.642552\n",
      "27274   O=c1cc(O)[nH]cn1  13.706850\n",
      "26868   O=c1nc(O)cc[nH]1  14.000183\n",
      "44689   N=c1ncc(O)c[nH]1  14.043087\n",
      "79340  c1nc(C2CN2)c[nH]1  14.079159\n",
      "51443     O=c1nn[nH]cc1O  14.081951\n",
      "70256      CCc1c[nH]cc1O  14.088878\n",
      "                 Smiles  mahalanobis_diag\n",
      "50716    O=c1nc[nH]cc1O         70.240292\n",
      "70285     OCc1c[nH]nc1O         73.185866\n",
      "65170    ON=c1nc[nH]cn1         74.728760\n",
      "70257     OCc1c[nH]cc1O         75.618693\n",
      "44693  O=c1ncc(O)c[nH]1         76.470667\n",
      "65296    ON=c1cn[nH]nc1         76.746077\n",
      "48694   OCc1nc(O)c[nH]1         76.978493\n",
      "71185     OCc1nc[nH]c1O         77.046757\n",
      "68696     OCc1[nH]ncc1O         77.279598\n",
      "51443    O=c1nn[nH]cc1O         77.579835\n"
     ]
    }
   ],
   "source": [
    "print(df.sort_values(by='mahalanobis').head(10)[['Smiles', 'mahalanobis']])\n",
    "print(df.sort_values(by='euclidean').head(10)[['Smiles', 'euclidean']])\n",
    "print(df.sort_values(by='mahalanobis_diag').head(10)[['Smiles', 'mahalanobis_diag']])"
   ]
  },
  {
   "cell_type": "markdown",
   "metadata": {},
   "source": [
    "Mostrar resultados"
   ]
  },
  {
   "cell_type": "code",
   "execution_count": 8,
   "metadata": {},
   "outputs": [
    {
     "name": "stderr",
     "output_type": "stream",
     "text": [
      "[16:45:09] DEPRECATION WARNING: please use MorganGenerator\n",
      "[16:45:09] The new font size 0.8 is below the current minimum (6).\n"
     ]
    },
    {
     "data": {
      "image/svg+xml": [
       "<svg xmlns=\"http://www.w3.org/2000/svg\" xmlns:rdkit=\"http://www.rdkit.org/xml\" xmlns:xlink=\"http://www.w3.org/1999/xlink\" version=\"1.1\" baseProfile=\"full\" xml:space=\"preserve\" width=\"300px\" height=\"300px\" viewBox=\"0 0 300 300\">\n",
       "<!-- END OF HEADER -->\n",
       "<rect style=\"opacity:1.0;fill:#FFFFFF;stroke:none\" width=\"300.0\" height=\"300.0\" x=\"0.0\" y=\"0.0\"> </rect>\n",
       "<path class=\"bond-0 atom-0 atom-1\" d=\"M 239.6,144.2 L 205.5,144.2\" style=\"fill:none;fill-rule:evenodd;stroke:#FF0000;stroke-width:2.0px;stroke-linecap:butt;stroke-linejoin:miter;stroke-opacity:1\"/>\n",
       "<path class=\"bond-0 atom-0 atom-1\" d=\"M 205.5,144.2 L 171.5,144.2\" style=\"fill:none;fill-rule:evenodd;stroke:#000000;stroke-width:2.0px;stroke-linecap:butt;stroke-linejoin:miter;stroke-opacity:1\"/>\n",
       "<path class=\"bond-1 atom-1 atom-2\" d=\"M 171.5,144.2 L 123.7,78.4\" style=\"fill:none;fill-rule:evenodd;stroke:#000000;stroke-width:2.0px;stroke-linecap:butt;stroke-linejoin:miter;stroke-opacity:1\"/>\n",
       "<path class=\"bond-1 atom-1 atom-2\" d=\"M 156.4,144.2 L 119.0,92.8\" style=\"fill:none;fill-rule:evenodd;stroke:#000000;stroke-width:2.0px;stroke-linecap:butt;stroke-linejoin:miter;stroke-opacity:1\"/>\n",
       "<path class=\"bond-2 atom-2 atom-3\" d=\"M 123.7,78.4 L 90.7,89.1\" style=\"fill:none;fill-rule:evenodd;stroke:#000000;stroke-width:2.0px;stroke-linecap:butt;stroke-linejoin:miter;stroke-opacity:1\"/>\n",
       "<path class=\"bond-2 atom-2 atom-3\" d=\"M 90.7,89.1 L 57.7,99.9\" style=\"fill:none;fill-rule:evenodd;stroke:#0000FF;stroke-width:2.0px;stroke-linecap:butt;stroke-linejoin:miter;stroke-opacity:1\"/>\n",
       "<path class=\"bond-3 atom-3 atom-4\" d=\"M 46.3,117.8 L 46.3,151.3\" style=\"fill:none;fill-rule:evenodd;stroke:#0000FF;stroke-width:2.0px;stroke-linecap:butt;stroke-linejoin:miter;stroke-opacity:1\"/>\n",
       "<path class=\"bond-3 atom-3 atom-4\" d=\"M 46.3,151.3 L 46.3,184.9\" style=\"fill:none;fill-rule:evenodd;stroke:#000000;stroke-width:2.0px;stroke-linecap:butt;stroke-linejoin:miter;stroke-opacity:1\"/>\n",
       "<path class=\"bond-4 atom-4 atom-5\" d=\"M 46.3,184.9 L 79.3,195.6\" style=\"fill:none;fill-rule:evenodd;stroke:#000000;stroke-width:2.0px;stroke-linecap:butt;stroke-linejoin:miter;stroke-opacity:1\"/>\n",
       "<path class=\"bond-4 atom-4 atom-5\" d=\"M 79.3,195.6 L 112.2,206.3\" style=\"fill:none;fill-rule:evenodd;stroke:#0000FF;stroke-width:2.0px;stroke-linecap:butt;stroke-linejoin:miter;stroke-opacity:1\"/>\n",
       "<path class=\"bond-4 atom-4 atom-5\" d=\"M 58.5,176.0 L 87.3,185.4\" style=\"fill:none;fill-rule:evenodd;stroke:#000000;stroke-width:2.0px;stroke-linecap:butt;stroke-linejoin:miter;stroke-opacity:1\"/>\n",
       "<path class=\"bond-4 atom-4 atom-5\" d=\"M 87.3,185.4 L 116.0,194.7\" style=\"fill:none;fill-rule:evenodd;stroke:#0000FF;stroke-width:2.0px;stroke-linecap:butt;stroke-linejoin:miter;stroke-opacity:1\"/>\n",
       "<path class=\"bond-5 atom-5 atom-1\" d=\"M 134.0,195.8 L 152.7,170.0\" style=\"fill:none;fill-rule:evenodd;stroke:#0000FF;stroke-width:2.0px;stroke-linecap:butt;stroke-linejoin:miter;stroke-opacity:1\"/>\n",
       "<path class=\"bond-5 atom-5 atom-1\" d=\"M 152.7,170.0 L 171.5,144.2\" style=\"fill:none;fill-rule:evenodd;stroke:#000000;stroke-width:2.0px;stroke-linecap:butt;stroke-linejoin:miter;stroke-opacity:1\"/>\n",
       "<path d=\"M 126.1,81.7 L 123.7,78.4 L 122.0,79.0\" style=\"fill:none;stroke:#000000;stroke-width:2.0px;stroke-linecap:butt;stroke-linejoin:miter;stroke-opacity:1;\"/>\n",
       "<path d=\"M 46.3,183.2 L 46.3,184.9 L 48.0,185.4\" style=\"fill:none;stroke:#000000;stroke-width:2.0px;stroke-linecap:butt;stroke-linejoin:miter;stroke-opacity:1;\"/>\n",
       "<path class=\"atom-0\" d=\"M 242.2 144.3 Q 242.2 138.8, 245.0 135.7 Q 247.7 132.6, 252.8 132.6 Q 257.9 132.6, 260.7 135.7 Q 263.4 138.8, 263.4 144.3 Q 263.4 149.9, 260.6 153.1 Q 257.9 156.2, 252.8 156.2 Q 247.7 156.2, 245.0 153.1 Q 242.2 149.9, 242.2 144.3 M 252.8 153.6 Q 256.3 153.6, 258.2 151.3 Q 260.1 148.9, 260.1 144.3 Q 260.1 139.8, 258.2 137.5 Q 256.3 135.2, 252.8 135.2 Q 249.3 135.2, 247.4 137.5 Q 245.5 139.8, 245.5 144.3 Q 245.5 149.0, 247.4 151.3 Q 249.3 153.6, 252.8 153.6 \" fill=\"#FF0000\"/>\n",
       "<path class=\"atom-0\" d=\"M 267.0 132.9 L 270.1 132.9 L 270.1 142.6 L 281.9 142.6 L 281.9 132.9 L 285.0 132.9 L 285.0 155.9 L 281.9 155.9 L 281.9 145.2 L 270.1 145.2 L 270.1 155.9 L 267.0 155.9 L 267.0 132.9 \" fill=\"#FF0000\"/>\n",
       "<path class=\"atom-3\" d=\"M 15.0 92.1 L 18.1 92.1 L 18.1 101.8 L 29.9 101.8 L 29.9 92.1 L 33.0 92.1 L 33.0 115.1 L 29.9 115.1 L 29.9 104.4 L 18.1 104.4 L 18.1 115.1 L 15.0 115.1 L 15.0 92.1 \" fill=\"#0000FF\"/>\n",
       "<path class=\"atom-3\" d=\"M 41.2 92.1 L 48.8 104.3 Q 49.5 105.5, 50.7 107.6 Q 51.9 109.8, 52.0 109.9 L 52.0 92.1 L 55.0 92.1 L 55.0 115.1 L 51.9 115.1 L 43.8 101.7 Q 42.8 100.2, 41.8 98.4 Q 40.9 96.6, 40.6 96.1 L 40.6 115.1 L 37.6 115.1 L 37.6 92.1 L 41.2 92.1 \" fill=\"#0000FF\"/>\n",
       "<path class=\"atom-5\" d=\"M 118.6 198.5 L 126.1 210.7 Q 126.9 211.9, 128.1 214.1 Q 129.3 216.3, 129.3 216.4 L 129.3 198.5 L 132.4 198.5 L 132.4 221.6 L 129.2 221.6 L 121.1 208.2 Q 120.2 206.7, 119.2 204.9 Q 118.2 203.1, 117.9 202.5 L 117.9 221.6 L 114.9 221.6 L 114.9 198.5 L 118.6 198.5 \" fill=\"#0000FF\"/>\n",
       "</svg>"
      ],
      "text/plain": [
       "<IPython.core.display.SVG object>"
      ]
     },
     "metadata": {},
     "output_type": "display_data"
    },
    {
     "name": "stderr",
     "output_type": "stream",
     "text": [
      "[16:45:10] DEPRECATION WARNING: please use MorganGenerator\n",
      "[16:45:10] The new font size 0.8 is below the current minimum (6).\n"
     ]
    },
    {
     "data": {
      "image/svg+xml": [
       "<svg xmlns=\"http://www.w3.org/2000/svg\" xmlns:rdkit=\"http://www.rdkit.org/xml\" xmlns:xlink=\"http://www.w3.org/1999/xlink\" version=\"1.1\" baseProfile=\"full\" xml:space=\"preserve\" width=\"300px\" height=\"300px\" viewBox=\"0 0 300 300\">\n",
       "<!-- END OF HEADER -->\n",
       "<rect style=\"opacity:1.0;fill:#FFFFFF;stroke:none\" width=\"300.0\" height=\"300.0\" x=\"0.0\" y=\"0.0\"> </rect>\n",
       "<path class=\"bond-0 atom-0 atom-1\" d=\"M 237.4,227.4 L 207.8,210.3\" style=\"fill:none;fill-rule:evenodd;stroke:#FF0000;stroke-width:2.0px;stroke-linecap:butt;stroke-linejoin:miter;stroke-opacity:1\"/>\n",
       "<path class=\"bond-0 atom-0 atom-1\" d=\"M 207.8,210.3 L 178.2,193.2\" style=\"fill:none;fill-rule:evenodd;stroke:#000000;stroke-width:2.0px;stroke-linecap:butt;stroke-linejoin:miter;stroke-opacity:1\"/>\n",
       "<path class=\"bond-0 atom-0 atom-1\" d=\"M 243.3,217.0 L 213.8,199.9\" style=\"fill:none;fill-rule:evenodd;stroke:#FF0000;stroke-width:2.0px;stroke-linecap:butt;stroke-linejoin:miter;stroke-opacity:1\"/>\n",
       "<path class=\"bond-0 atom-0 atom-1\" d=\"M 213.8,199.9 L 184.2,182.9\" style=\"fill:none;fill-rule:evenodd;stroke:#000000;stroke-width:2.0px;stroke-linecap:butt;stroke-linejoin:miter;stroke-opacity:1\"/>\n",
       "<path class=\"bond-1 atom-1 atom-2\" d=\"M 184.2,189.8 L 155.2,206.5\" style=\"fill:none;fill-rule:evenodd;stroke:#000000;stroke-width:2.0px;stroke-linecap:butt;stroke-linejoin:miter;stroke-opacity:1\"/>\n",
       "<path class=\"bond-1 atom-1 atom-2\" d=\"M 155.2,206.5 L 126.2,223.3\" style=\"fill:none;fill-rule:evenodd;stroke:#0000FF;stroke-width:2.0px;stroke-linecap:butt;stroke-linejoin:miter;stroke-opacity:1\"/>\n",
       "<path class=\"bond-2 atom-2 atom-3\" d=\"M 103.7,223.3 L 74.7,206.5\" style=\"fill:none;fill-rule:evenodd;stroke:#0000FF;stroke-width:2.0px;stroke-linecap:butt;stroke-linejoin:miter;stroke-opacity:1\"/>\n",
       "<path class=\"bond-2 atom-2 atom-3\" d=\"M 74.7,206.5 L 45.8,189.8\" style=\"fill:none;fill-rule:evenodd;stroke:#000000;stroke-width:2.0px;stroke-linecap:butt;stroke-linejoin:miter;stroke-opacity:1\"/>\n",
       "<path class=\"bond-2 atom-2 atom-3\" d=\"M 109.7,212.9 L 83.7,197.9\" style=\"fill:none;fill-rule:evenodd;stroke:#0000FF;stroke-width:2.0px;stroke-linecap:butt;stroke-linejoin:miter;stroke-opacity:1\"/>\n",
       "<path class=\"bond-2 atom-2 atom-3\" d=\"M 83.7,197.9 L 57.7,182.9\" style=\"fill:none;fill-rule:evenodd;stroke:#000000;stroke-width:2.0px;stroke-linecap:butt;stroke-linejoin:miter;stroke-opacity:1\"/>\n",
       "<path class=\"bond-3 atom-3 atom-4\" d=\"M 45.8,189.8 L 45.8,156.8\" style=\"fill:none;fill-rule:evenodd;stroke:#000000;stroke-width:2.0px;stroke-linecap:butt;stroke-linejoin:miter;stroke-opacity:1\"/>\n",
       "<path class=\"bond-3 atom-3 atom-4\" d=\"M 45.8,156.8 L 45.8,123.8\" style=\"fill:none;fill-rule:evenodd;stroke:#0000FF;stroke-width:2.0px;stroke-linecap:butt;stroke-linejoin:miter;stroke-opacity:1\"/>\n",
       "<path class=\"bond-4 atom-4 atom-5\" d=\"M 57.0,103.4 L 86.0,86.6\" style=\"fill:none;fill-rule:evenodd;stroke:#0000FF;stroke-width:2.0px;stroke-linecap:butt;stroke-linejoin:miter;stroke-opacity:1\"/>\n",
       "<path class=\"bond-4 atom-4 atom-5\" d=\"M 86.0,86.6 L 115.0,69.9\" style=\"fill:none;fill-rule:evenodd;stroke:#000000;stroke-width:2.0px;stroke-linecap:butt;stroke-linejoin:miter;stroke-opacity:1\"/>\n",
       "<path class=\"bond-5 atom-5 atom-6\" d=\"M 115.0,69.9 L 184.2,109.9\" style=\"fill:none;fill-rule:evenodd;stroke:#000000;stroke-width:2.0px;stroke-linecap:butt;stroke-linejoin:miter;stroke-opacity:1\"/>\n",
       "<path class=\"bond-5 atom-5 atom-6\" d=\"M 115.0,83.8 L 172.2,116.8\" style=\"fill:none;fill-rule:evenodd;stroke:#000000;stroke-width:2.0px;stroke-linecap:butt;stroke-linejoin:miter;stroke-opacity:1\"/>\n",
       "<path class=\"bond-6 atom-6 atom-7\" d=\"M 184.2,109.9 L 212.3,93.6\" style=\"fill:none;fill-rule:evenodd;stroke:#000000;stroke-width:2.0px;stroke-linecap:butt;stroke-linejoin:miter;stroke-opacity:1\"/>\n",
       "<path class=\"bond-6 atom-6 atom-7\" d=\"M 212.3,93.6 L 240.4,77.4\" style=\"fill:none;fill-rule:evenodd;stroke:#FF0000;stroke-width:2.0px;stroke-linecap:butt;stroke-linejoin:miter;stroke-opacity:1\"/>\n",
       "<path class=\"bond-7 atom-6 atom-1\" d=\"M 184.2,109.9 L 184.2,189.8\" style=\"fill:none;fill-rule:evenodd;stroke:#000000;stroke-width:2.0px;stroke-linecap:butt;stroke-linejoin:miter;stroke-opacity:1\"/>\n",
       "<path d=\"M 182.7,190.6 L 184.2,189.8 L 184.2,185.8\" style=\"fill:none;stroke:#000000;stroke-width:2.0px;stroke-linecap:butt;stroke-linejoin:miter;stroke-opacity:1;\"/>\n",
       "<path d=\"M 47.2,190.6 L 45.8,189.8 L 45.8,188.1\" style=\"fill:none;stroke:#000000;stroke-width:2.0px;stroke-linecap:butt;stroke-linejoin:miter;stroke-opacity:1;\"/>\n",
       "<path d=\"M 113.5,70.7 L 115.0,69.9 L 118.4,71.9\" style=\"fill:none;stroke:#000000;stroke-width:2.0px;stroke-linecap:butt;stroke-linejoin:miter;stroke-opacity:1;\"/>\n",
       "<path class=\"atom-0\" d=\"M 243.0 229.8 Q 243.0 224.4, 245.7 221.3 Q 248.4 218.3, 253.4 218.3 Q 258.4 218.3, 261.1 221.3 Q 263.8 224.4, 263.8 229.8 Q 263.8 235.3, 261.1 238.4 Q 258.3 241.5, 253.4 241.5 Q 248.4 241.5, 245.7 238.4 Q 243.0 235.3, 243.0 229.8 M 253.4 239.0 Q 256.8 239.0, 258.7 236.7 Q 260.6 234.3, 260.6 229.8 Q 260.6 225.4, 258.7 223.1 Q 256.8 220.9, 253.4 220.9 Q 249.9 220.9, 248.0 223.1 Q 246.2 225.3, 246.2 229.8 Q 246.2 234.4, 248.0 236.7 Q 249.9 239.0, 253.4 239.0 \" fill=\"#FF0000\"/>\n",
       "<path class=\"atom-2\" d=\"M 110.0 218.4 L 117.4 230.4 Q 118.1 231.6, 119.3 233.7 Q 120.5 235.9, 120.5 236.0 L 120.5 218.4 L 123.5 218.4 L 123.5 241.1 L 120.4 241.1 L 112.5 227.9 Q 111.6 226.4, 110.6 224.7 Q 109.6 222.9, 109.3 222.4 L 109.3 241.1 L 106.4 241.1 L 106.4 218.4 L 110.0 218.4 \" fill=\"#0000FF\"/>\n",
       "<path class=\"atom-4\" d=\"M 15.0 98.6 L 18.1 98.6 L 18.1 108.2 L 29.6 108.2 L 29.6 98.6 L 32.7 98.6 L 32.7 121.2 L 29.6 121.2 L 29.6 110.7 L 18.1 110.7 L 18.1 121.2 L 15.0 121.2 L 15.0 98.6 \" fill=\"#0000FF\"/>\n",
       "<path class=\"atom-4\" d=\"M 40.8 98.6 L 48.2 110.5 Q 48.9 111.7, 50.1 113.9 Q 51.3 116.0, 51.3 116.1 L 51.3 98.6 L 54.3 98.6 L 54.3 121.2 L 51.2 121.2 L 43.3 108.1 Q 42.3 106.5, 41.4 104.8 Q 40.4 103.0, 40.1 102.5 L 40.1 121.2 L 37.2 121.2 L 37.2 98.6 L 40.8 98.6 \" fill=\"#0000FF\"/>\n",
       "<path class=\"atom-7\" d=\"M 243.0 70.0 Q 243.0 64.5, 245.7 61.5 Q 248.4 58.5, 253.4 58.5 Q 258.4 58.5, 261.1 61.5 Q 263.8 64.5, 263.8 70.0 Q 263.8 75.5, 261.1 78.6 Q 258.3 81.7, 253.4 81.7 Q 248.4 81.7, 245.7 78.6 Q 243.0 75.5, 243.0 70.0 M 253.4 79.1 Q 256.8 79.1, 258.7 76.8 Q 260.6 74.5, 260.6 70.0 Q 260.6 65.5, 258.7 63.3 Q 256.8 61.0, 253.4 61.0 Q 249.9 61.0, 248.0 63.3 Q 246.2 65.5, 246.2 70.0 Q 246.2 74.5, 248.0 76.8 Q 249.9 79.1, 253.4 79.1 \" fill=\"#FF0000\"/>\n",
       "<path class=\"atom-7\" d=\"M 267.3 58.7 L 270.4 58.7 L 270.4 68.3 L 281.9 68.3 L 281.9 58.7 L 285.0 58.7 L 285.0 81.4 L 281.9 81.4 L 281.9 70.9 L 270.4 70.9 L 270.4 81.4 L 267.3 81.4 L 267.3 58.7 \" fill=\"#FF0000\"/>\n",
       "</svg>"
      ],
      "text/plain": [
       "<IPython.core.display.SVG object>"
      ]
     },
     "metadata": {},
     "output_type": "display_data"
    },
    {
     "name": "stderr",
     "output_type": "stream",
     "text": [
      "[16:45:10] DEPRECATION WARNING: please use MorganGenerator\n",
      "[16:45:10] The new font size 0.8 is below the current minimum (6).\n"
     ]
    },
    {
     "data": {
      "image/svg+xml": [
       "<svg xmlns=\"http://www.w3.org/2000/svg\" xmlns:rdkit=\"http://www.rdkit.org/xml\" xmlns:xlink=\"http://www.w3.org/1999/xlink\" version=\"1.1\" baseProfile=\"full\" xml:space=\"preserve\" width=\"300px\" height=\"300px\" viewBox=\"0 0 300 300\">\n",
       "<!-- END OF HEADER -->\n",
       "<rect style=\"opacity:1.0;fill:#FFFFFF;stroke:none\" width=\"300.0\" height=\"300.0\" x=\"0.0\" y=\"0.0\"> </rect>\n",
       "<path class=\"bond-0 atom-0 atom-1\" d=\"M 237.4,227.4 L 207.8,210.3\" style=\"fill:none;fill-rule:evenodd;stroke:#FF0000;stroke-width:2.0px;stroke-linecap:butt;stroke-linejoin:miter;stroke-opacity:1\"/>\n",
       "<path class=\"bond-0 atom-0 atom-1\" d=\"M 207.8,210.3 L 178.2,193.2\" style=\"fill:none;fill-rule:evenodd;stroke:#000000;stroke-width:2.0px;stroke-linecap:butt;stroke-linejoin:miter;stroke-opacity:1\"/>\n",
       "<path class=\"bond-0 atom-0 atom-1\" d=\"M 243.3,217.0 L 213.8,199.9\" style=\"fill:none;fill-rule:evenodd;stroke:#FF0000;stroke-width:2.0px;stroke-linecap:butt;stroke-linejoin:miter;stroke-opacity:1\"/>\n",
       "<path class=\"bond-0 atom-0 atom-1\" d=\"M 213.8,199.9 L 184.2,182.9\" style=\"fill:none;fill-rule:evenodd;stroke:#000000;stroke-width:2.0px;stroke-linecap:butt;stroke-linejoin:miter;stroke-opacity:1\"/>\n",
       "<path class=\"bond-1 atom-1 atom-2\" d=\"M 184.2,189.8 L 155.2,206.5\" style=\"fill:none;fill-rule:evenodd;stroke:#000000;stroke-width:2.0px;stroke-linecap:butt;stroke-linejoin:miter;stroke-opacity:1\"/>\n",
       "<path class=\"bond-1 atom-1 atom-2\" d=\"M 155.2,206.5 L 126.2,223.3\" style=\"fill:none;fill-rule:evenodd;stroke:#0000FF;stroke-width:2.0px;stroke-linecap:butt;stroke-linejoin:miter;stroke-opacity:1\"/>\n",
       "<path class=\"bond-2 atom-2 atom-3\" d=\"M 103.7,223.3 L 74.7,206.5\" style=\"fill:none;fill-rule:evenodd;stroke:#0000FF;stroke-width:2.0px;stroke-linecap:butt;stroke-linejoin:miter;stroke-opacity:1\"/>\n",
       "<path class=\"bond-2 atom-2 atom-3\" d=\"M 74.7,206.5 L 45.8,189.8\" style=\"fill:none;fill-rule:evenodd;stroke:#000000;stroke-width:2.0px;stroke-linecap:butt;stroke-linejoin:miter;stroke-opacity:1\"/>\n",
       "<path class=\"bond-2 atom-2 atom-3\" d=\"M 109.7,212.9 L 83.7,197.9\" style=\"fill:none;fill-rule:evenodd;stroke:#0000FF;stroke-width:2.0px;stroke-linecap:butt;stroke-linejoin:miter;stroke-opacity:1\"/>\n",
       "<path class=\"bond-2 atom-2 atom-3\" d=\"M 83.7,197.9 L 57.7,182.9\" style=\"fill:none;fill-rule:evenodd;stroke:#000000;stroke-width:2.0px;stroke-linecap:butt;stroke-linejoin:miter;stroke-opacity:1\"/>\n",
       "<path class=\"bond-3 atom-3 atom-4\" d=\"M 45.8,189.8 L 45.8,156.8\" style=\"fill:none;fill-rule:evenodd;stroke:#000000;stroke-width:2.0px;stroke-linecap:butt;stroke-linejoin:miter;stroke-opacity:1\"/>\n",
       "<path class=\"bond-3 atom-3 atom-4\" d=\"M 45.8,156.8 L 45.8,123.8\" style=\"fill:none;fill-rule:evenodd;stroke:#0000FF;stroke-width:2.0px;stroke-linecap:butt;stroke-linejoin:miter;stroke-opacity:1\"/>\n",
       "<path class=\"bond-4 atom-4 atom-5\" d=\"M 57.0,103.4 L 86.0,86.6\" style=\"fill:none;fill-rule:evenodd;stroke:#0000FF;stroke-width:2.0px;stroke-linecap:butt;stroke-linejoin:miter;stroke-opacity:1\"/>\n",
       "<path class=\"bond-4 atom-4 atom-5\" d=\"M 86.0,86.6 L 115.0,69.9\" style=\"fill:none;fill-rule:evenodd;stroke:#000000;stroke-width:2.0px;stroke-linecap:butt;stroke-linejoin:miter;stroke-opacity:1\"/>\n",
       "<path class=\"bond-5 atom-5 atom-6\" d=\"M 115.0,69.9 L 184.2,109.9\" style=\"fill:none;fill-rule:evenodd;stroke:#000000;stroke-width:2.0px;stroke-linecap:butt;stroke-linejoin:miter;stroke-opacity:1\"/>\n",
       "<path class=\"bond-5 atom-5 atom-6\" d=\"M 115.0,83.8 L 172.2,116.8\" style=\"fill:none;fill-rule:evenodd;stroke:#000000;stroke-width:2.0px;stroke-linecap:butt;stroke-linejoin:miter;stroke-opacity:1\"/>\n",
       "<path class=\"bond-6 atom-6 atom-7\" d=\"M 184.2,109.9 L 212.3,93.6\" style=\"fill:none;fill-rule:evenodd;stroke:#000000;stroke-width:2.0px;stroke-linecap:butt;stroke-linejoin:miter;stroke-opacity:1\"/>\n",
       "<path class=\"bond-6 atom-6 atom-7\" d=\"M 212.3,93.6 L 240.4,77.4\" style=\"fill:none;fill-rule:evenodd;stroke:#FF0000;stroke-width:2.0px;stroke-linecap:butt;stroke-linejoin:miter;stroke-opacity:1\"/>\n",
       "<path class=\"bond-7 atom-6 atom-1\" d=\"M 184.2,109.9 L 184.2,189.8\" style=\"fill:none;fill-rule:evenodd;stroke:#000000;stroke-width:2.0px;stroke-linecap:butt;stroke-linejoin:miter;stroke-opacity:1\"/>\n",
       "<path d=\"M 182.7,190.6 L 184.2,189.8 L 184.2,185.8\" style=\"fill:none;stroke:#000000;stroke-width:2.0px;stroke-linecap:butt;stroke-linejoin:miter;stroke-opacity:1;\"/>\n",
       "<path d=\"M 47.2,190.6 L 45.8,189.8 L 45.8,188.1\" style=\"fill:none;stroke:#000000;stroke-width:2.0px;stroke-linecap:butt;stroke-linejoin:miter;stroke-opacity:1;\"/>\n",
       "<path d=\"M 113.5,70.7 L 115.0,69.9 L 118.4,71.9\" style=\"fill:none;stroke:#000000;stroke-width:2.0px;stroke-linecap:butt;stroke-linejoin:miter;stroke-opacity:1;\"/>\n",
       "<path class=\"atom-0\" d=\"M 243.0 229.8 Q 243.0 224.4, 245.7 221.3 Q 248.4 218.3, 253.4 218.3 Q 258.4 218.3, 261.1 221.3 Q 263.8 224.4, 263.8 229.8 Q 263.8 235.3, 261.1 238.4 Q 258.3 241.5, 253.4 241.5 Q 248.4 241.5, 245.7 238.4 Q 243.0 235.3, 243.0 229.8 M 253.4 239.0 Q 256.8 239.0, 258.7 236.7 Q 260.6 234.3, 260.6 229.8 Q 260.6 225.4, 258.7 223.1 Q 256.8 220.9, 253.4 220.9 Q 249.9 220.9, 248.0 223.1 Q 246.2 225.3, 246.2 229.8 Q 246.2 234.4, 248.0 236.7 Q 249.9 239.0, 253.4 239.0 \" fill=\"#FF0000\"/>\n",
       "<path class=\"atom-2\" d=\"M 110.0 218.4 L 117.4 230.4 Q 118.1 231.6, 119.3 233.7 Q 120.5 235.9, 120.5 236.0 L 120.5 218.4 L 123.5 218.4 L 123.5 241.1 L 120.4 241.1 L 112.5 227.9 Q 111.6 226.4, 110.6 224.7 Q 109.6 222.9, 109.3 222.4 L 109.3 241.1 L 106.4 241.1 L 106.4 218.4 L 110.0 218.4 \" fill=\"#0000FF\"/>\n",
       "<path class=\"atom-4\" d=\"M 15.0 98.6 L 18.1 98.6 L 18.1 108.2 L 29.6 108.2 L 29.6 98.6 L 32.7 98.6 L 32.7 121.2 L 29.6 121.2 L 29.6 110.7 L 18.1 110.7 L 18.1 121.2 L 15.0 121.2 L 15.0 98.6 \" fill=\"#0000FF\"/>\n",
       "<path class=\"atom-4\" d=\"M 40.8 98.6 L 48.2 110.5 Q 48.9 111.7, 50.1 113.9 Q 51.3 116.0, 51.3 116.1 L 51.3 98.6 L 54.3 98.6 L 54.3 121.2 L 51.2 121.2 L 43.3 108.1 Q 42.3 106.5, 41.4 104.8 Q 40.4 103.0, 40.1 102.5 L 40.1 121.2 L 37.2 121.2 L 37.2 98.6 L 40.8 98.6 \" fill=\"#0000FF\"/>\n",
       "<path class=\"atom-7\" d=\"M 243.0 70.0 Q 243.0 64.5, 245.7 61.5 Q 248.4 58.5, 253.4 58.5 Q 258.4 58.5, 261.1 61.5 Q 263.8 64.5, 263.8 70.0 Q 263.8 75.5, 261.1 78.6 Q 258.3 81.7, 253.4 81.7 Q 248.4 81.7, 245.7 78.6 Q 243.0 75.5, 243.0 70.0 M 253.4 79.1 Q 256.8 79.1, 258.7 76.8 Q 260.6 74.5, 260.6 70.0 Q 260.6 65.5, 258.7 63.3 Q 256.8 61.0, 253.4 61.0 Q 249.9 61.0, 248.0 63.3 Q 246.2 65.5, 246.2 70.0 Q 246.2 74.5, 248.0 76.8 Q 249.9 79.1, 253.4 79.1 \" fill=\"#FF0000\"/>\n",
       "<path class=\"atom-7\" d=\"M 267.3 58.7 L 270.4 58.7 L 270.4 68.3 L 281.9 68.3 L 281.9 58.7 L 285.0 58.7 L 285.0 81.4 L 281.9 81.4 L 281.9 70.9 L 270.4 70.9 L 270.4 81.4 L 267.3 81.4 L 267.3 58.7 \" fill=\"#FF0000\"/>\n",
       "</svg>"
      ],
      "text/plain": [
       "<IPython.core.display.SVG object>"
      ]
     },
     "metadata": {},
     "output_type": "display_data"
    },
    {
     "name": "stderr",
     "output_type": "stream",
     "text": [
      "[16:45:10] DEPRECATION WARNING: please use MorganGenerator\n",
      "[16:45:10] The new font size 0.8 is below the current minimum (6).\n"
     ]
    },
    {
     "data": {
      "image/svg+xml": [
       "<svg xmlns=\"http://www.w3.org/2000/svg\" xmlns:rdkit=\"http://www.rdkit.org/xml\" xmlns:xlink=\"http://www.w3.org/1999/xlink\" version=\"1.1\" baseProfile=\"full\" xml:space=\"preserve\" width=\"300px\" height=\"300px\" viewBox=\"0 0 300 300\">\n",
       "<!-- END OF HEADER -->\n",
       "<rect style=\"opacity:1.0;fill:#FFFFFF;stroke:none\" width=\"300.0\" height=\"300.0\" x=\"0.0\" y=\"0.0\"> </rect>\n",
       "<path class=\"bond-0 atom-0 atom-1\" d=\"M 237.4,227.4 L 207.8,210.3\" style=\"fill:none;fill-rule:evenodd;stroke:#FF0000;stroke-width:2.0px;stroke-linecap:butt;stroke-linejoin:miter;stroke-opacity:1\"/>\n",
       "<path class=\"bond-0 atom-0 atom-1\" d=\"M 207.8,210.3 L 178.2,193.2\" style=\"fill:none;fill-rule:evenodd;stroke:#000000;stroke-width:2.0px;stroke-linecap:butt;stroke-linejoin:miter;stroke-opacity:1\"/>\n",
       "<path class=\"bond-0 atom-0 atom-1\" d=\"M 243.3,217.0 L 213.8,199.9\" style=\"fill:none;fill-rule:evenodd;stroke:#FF0000;stroke-width:2.0px;stroke-linecap:butt;stroke-linejoin:miter;stroke-opacity:1\"/>\n",
       "<path class=\"bond-0 atom-0 atom-1\" d=\"M 213.8,199.9 L 184.2,182.9\" style=\"fill:none;fill-rule:evenodd;stroke:#000000;stroke-width:2.0px;stroke-linecap:butt;stroke-linejoin:miter;stroke-opacity:1\"/>\n",
       "<path class=\"bond-1 atom-1 atom-2\" d=\"M 184.2,189.8 L 155.2,206.5\" style=\"fill:none;fill-rule:evenodd;stroke:#000000;stroke-width:2.0px;stroke-linecap:butt;stroke-linejoin:miter;stroke-opacity:1\"/>\n",
       "<path class=\"bond-1 atom-1 atom-2\" d=\"M 155.2,206.5 L 126.2,223.3\" style=\"fill:none;fill-rule:evenodd;stroke:#0000FF;stroke-width:2.0px;stroke-linecap:butt;stroke-linejoin:miter;stroke-opacity:1\"/>\n",
       "<path class=\"bond-2 atom-2 atom-3\" d=\"M 103.7,223.3 L 74.7,206.5\" style=\"fill:none;fill-rule:evenodd;stroke:#0000FF;stroke-width:2.0px;stroke-linecap:butt;stroke-linejoin:miter;stroke-opacity:1\"/>\n",
       "<path class=\"bond-2 atom-2 atom-3\" d=\"M 74.7,206.5 L 45.8,189.8\" style=\"fill:none;fill-rule:evenodd;stroke:#000000;stroke-width:2.0px;stroke-linecap:butt;stroke-linejoin:miter;stroke-opacity:1\"/>\n",
       "<path class=\"bond-2 atom-2 atom-3\" d=\"M 109.7,212.9 L 83.7,197.9\" style=\"fill:none;fill-rule:evenodd;stroke:#0000FF;stroke-width:2.0px;stroke-linecap:butt;stroke-linejoin:miter;stroke-opacity:1\"/>\n",
       "<path class=\"bond-2 atom-2 atom-3\" d=\"M 83.7,197.9 L 57.7,182.9\" style=\"fill:none;fill-rule:evenodd;stroke:#000000;stroke-width:2.0px;stroke-linecap:butt;stroke-linejoin:miter;stroke-opacity:1\"/>\n",
       "<path class=\"bond-3 atom-3 atom-4\" d=\"M 45.8,189.8 L 45.8,156.8\" style=\"fill:none;fill-rule:evenodd;stroke:#000000;stroke-width:2.0px;stroke-linecap:butt;stroke-linejoin:miter;stroke-opacity:1\"/>\n",
       "<path class=\"bond-3 atom-3 atom-4\" d=\"M 45.8,156.8 L 45.8,123.8\" style=\"fill:none;fill-rule:evenodd;stroke:#0000FF;stroke-width:2.0px;stroke-linecap:butt;stroke-linejoin:miter;stroke-opacity:1\"/>\n",
       "<path class=\"bond-4 atom-4 atom-5\" d=\"M 57.0,103.4 L 86.0,86.6\" style=\"fill:none;fill-rule:evenodd;stroke:#0000FF;stroke-width:2.0px;stroke-linecap:butt;stroke-linejoin:miter;stroke-opacity:1\"/>\n",
       "<path class=\"bond-4 atom-4 atom-5\" d=\"M 86.0,86.6 L 115.0,69.9\" style=\"fill:none;fill-rule:evenodd;stroke:#000000;stroke-width:2.0px;stroke-linecap:butt;stroke-linejoin:miter;stroke-opacity:1\"/>\n",
       "<path class=\"bond-5 atom-5 atom-6\" d=\"M 115.0,69.9 L 184.2,109.9\" style=\"fill:none;fill-rule:evenodd;stroke:#000000;stroke-width:2.0px;stroke-linecap:butt;stroke-linejoin:miter;stroke-opacity:1\"/>\n",
       "<path class=\"bond-5 atom-5 atom-6\" d=\"M 115.0,83.8 L 172.2,116.8\" style=\"fill:none;fill-rule:evenodd;stroke:#000000;stroke-width:2.0px;stroke-linecap:butt;stroke-linejoin:miter;stroke-opacity:1\"/>\n",
       "<path class=\"bond-6 atom-6 atom-7\" d=\"M 184.2,109.9 L 212.3,93.6\" style=\"fill:none;fill-rule:evenodd;stroke:#000000;stroke-width:2.0px;stroke-linecap:butt;stroke-linejoin:miter;stroke-opacity:1\"/>\n",
       "<path class=\"bond-6 atom-6 atom-7\" d=\"M 212.3,93.6 L 240.4,77.4\" style=\"fill:none;fill-rule:evenodd;stroke:#FF0000;stroke-width:2.0px;stroke-linecap:butt;stroke-linejoin:miter;stroke-opacity:1\"/>\n",
       "<path class=\"bond-7 atom-6 atom-1\" d=\"M 184.2,109.9 L 184.2,189.8\" style=\"fill:none;fill-rule:evenodd;stroke:#000000;stroke-width:2.0px;stroke-linecap:butt;stroke-linejoin:miter;stroke-opacity:1\"/>\n",
       "<path d=\"M 182.7,190.6 L 184.2,189.8 L 184.2,185.8\" style=\"fill:none;stroke:#000000;stroke-width:2.0px;stroke-linecap:butt;stroke-linejoin:miter;stroke-opacity:1;\"/>\n",
       "<path d=\"M 47.2,190.6 L 45.8,189.8 L 45.8,188.1\" style=\"fill:none;stroke:#000000;stroke-width:2.0px;stroke-linecap:butt;stroke-linejoin:miter;stroke-opacity:1;\"/>\n",
       "<path d=\"M 113.5,70.7 L 115.0,69.9 L 118.4,71.9\" style=\"fill:none;stroke:#000000;stroke-width:2.0px;stroke-linecap:butt;stroke-linejoin:miter;stroke-opacity:1;\"/>\n",
       "<path class=\"atom-0\" d=\"M 243.0 229.8 Q 243.0 224.4, 245.7 221.3 Q 248.4 218.3, 253.4 218.3 Q 258.4 218.3, 261.1 221.3 Q 263.8 224.4, 263.8 229.8 Q 263.8 235.3, 261.1 238.4 Q 258.3 241.5, 253.4 241.5 Q 248.4 241.5, 245.7 238.4 Q 243.0 235.3, 243.0 229.8 M 253.4 239.0 Q 256.8 239.0, 258.7 236.7 Q 260.6 234.3, 260.6 229.8 Q 260.6 225.4, 258.7 223.1 Q 256.8 220.9, 253.4 220.9 Q 249.9 220.9, 248.0 223.1 Q 246.2 225.3, 246.2 229.8 Q 246.2 234.4, 248.0 236.7 Q 249.9 239.0, 253.4 239.0 \" fill=\"#FF0000\"/>\n",
       "<path class=\"atom-2\" d=\"M 110.0 218.4 L 117.4 230.4 Q 118.1 231.6, 119.3 233.7 Q 120.5 235.9, 120.5 236.0 L 120.5 218.4 L 123.5 218.4 L 123.5 241.1 L 120.4 241.1 L 112.5 227.9 Q 111.6 226.4, 110.6 224.7 Q 109.6 222.9, 109.3 222.4 L 109.3 241.1 L 106.4 241.1 L 106.4 218.4 L 110.0 218.4 \" fill=\"#0000FF\"/>\n",
       "<path class=\"atom-4\" d=\"M 15.0 98.6 L 18.1 98.6 L 18.1 108.2 L 29.6 108.2 L 29.6 98.6 L 32.7 98.6 L 32.7 121.2 L 29.6 121.2 L 29.6 110.7 L 18.1 110.7 L 18.1 121.2 L 15.0 121.2 L 15.0 98.6 \" fill=\"#0000FF\"/>\n",
       "<path class=\"atom-4\" d=\"M 40.8 98.6 L 48.2 110.5 Q 48.9 111.7, 50.1 113.9 Q 51.3 116.0, 51.3 116.1 L 51.3 98.6 L 54.3 98.6 L 54.3 121.2 L 51.2 121.2 L 43.3 108.1 Q 42.3 106.5, 41.4 104.8 Q 40.4 103.0, 40.1 102.5 L 40.1 121.2 L 37.2 121.2 L 37.2 98.6 L 40.8 98.6 \" fill=\"#0000FF\"/>\n",
       "<path class=\"atom-7\" d=\"M 243.0 70.0 Q 243.0 64.5, 245.7 61.5 Q 248.4 58.5, 253.4 58.5 Q 258.4 58.5, 261.1 61.5 Q 263.8 64.5, 263.8 70.0 Q 263.8 75.5, 261.1 78.6 Q 258.3 81.7, 253.4 81.7 Q 248.4 81.7, 245.7 78.6 Q 243.0 75.5, 243.0 70.0 M 253.4 79.1 Q 256.8 79.1, 258.7 76.8 Q 260.6 74.5, 260.6 70.0 Q 260.6 65.5, 258.7 63.3 Q 256.8 61.0, 253.4 61.0 Q 249.9 61.0, 248.0 63.3 Q 246.2 65.5, 246.2 70.0 Q 246.2 74.5, 248.0 76.8 Q 249.9 79.1, 253.4 79.1 \" fill=\"#FF0000\"/>\n",
       "<path class=\"atom-7\" d=\"M 267.3 58.7 L 270.4 58.7 L 270.4 68.3 L 281.9 68.3 L 281.9 58.7 L 285.0 58.7 L 285.0 81.4 L 281.9 81.4 L 281.9 70.9 L 270.4 70.9 L 270.4 81.4 L 267.3 81.4 L 267.3 58.7 \" fill=\"#FF0000\"/>\n",
       "</svg>"
      ],
      "text/plain": [
       "<IPython.core.display.SVG object>"
      ]
     },
     "metadata": {},
     "output_type": "display_data"
    },
    {
     "data": {
      "text/plain": [
       "\"for i in range(10):\\n    maha = depict_identifier(Chem.MolFromSmiles(df.sort_values(by='mahalanobis').head(10)['Smiles'].values[i]), 847950754, 1)\\n    maha = cairosvg.svg2png(bytestring=maha.data, write_to=dir + f'\\\\maha_{i}.png')\\n    eucl = depict_identifier(Chem.MolFromSmiles(df.sort_values(by='euclidean').head(10)['Smiles'].values[i]), 847950754, 1)\\n    eucl = cairosvg.svg2png(bytestring=eucl.data, write_to=dir + f'\\\\eucl_{i}.png')\\n    maha_diag = depict_identifier(Chem.MolFromSmiles(df.sort_values(by='mahalanobis_diag').head(10)['Smiles'].values[i]), 847950754, 1)\\n    maha_diag = cairosvg.svg2png(bytestring=maha_diag.data, write_to=dir + f'\\\\maha_diag_{i}.png')\\n\\nimages = []\\nfor i in range(10):\\n    images.append(imageio.imread(dir + f'\\\\maha_{i}.png'))\\nimageio.mimsave(dir + '\\\\maha.gif', images, duration=2)\\n\\nimages = []\\nfor i in range(10):\\n    images.append(imageio.imread(dir + f'\\\\eucl_{i}.png'))\\nimageio.mimsave(dir + '\\\\eucl.gif', images, duration=2)\\n\\nimages = []\\nfor i in range(10):\\n    images.append(imageio.imread(dir + f'\\\\maha_diag_{i}.png'))\\nimageio.mimsave(dir + '\\\\maha_diag.gif', images, duration=2)\""
      ]
     },
     "execution_count": 8,
     "metadata": {},
     "output_type": "execute_result"
    }
   ],
   "source": [
    "id = depict_identifier(molecula, 847950754, 1)\n",
    "from IPython.display import SVG, display\n",
    "import imageio\n",
    "import cairosvg\n",
    "\n",
    "display(id)\n",
    "#id = cairosvg.svg2png(bytestring=id.data, write_to=dir + '\\id.png')\n",
    "\n",
    "#Mostrar moleculas\n",
    "id = depict_identifier(Chem.MolFromSmiles(df.sort_values(by='mahalanobis').head(10)['Smiles'].values[0]), 847950754, 1)\n",
    "display(id)\n",
    "id = depict_identifier(Chem.MolFromSmiles(df.sort_values(by='euclidean').head(10)['Smiles'].values[0]), 847950754, 1)\n",
    "display(id)\n",
    "id = depict_identifier(Chem.MolFromSmiles(df.sort_values(by='mahalanobis_diag').head(10)['Smiles'].values[0]), 847950754, 1)\n",
    "display(id)\n",
    "\n",
    "#Generar gif con las 10 moleculas mas cercanas\n",
    "\"\"\"\n",
    "dir = '..\\salidas\\png'\n",
    "if not os.path.exists(dir):\n",
    "    os.makedirs(dir)\n",
    "\n",
    "for i in range(10):\n",
    "    maha = depict_identifier(Chem.MolFromSmiles(df.sort_values(by='mahalanobis').head(10)['Smiles'].values[i]), 847950754, 1)\n",
    "    maha = cairosvg.svg2png(bytestring=maha.data, write_to=dir + f'\\maha_{i}.png')\n",
    "    eucl = depict_identifier(Chem.MolFromSmiles(df.sort_values(by='euclidean').head(10)['Smiles'].values[i]), 847950754, 1)\n",
    "    eucl = cairosvg.svg2png(bytestring=eucl.data, write_to=dir + f'\\eucl_{i}.png')\n",
    "    maha_diag = depict_identifier(Chem.MolFromSmiles(df.sort_values(by='mahalanobis_diag').head(10)['Smiles'].values[i]), 847950754, 1)\n",
    "    maha_diag = cairosvg.svg2png(bytestring=maha_diag.data, write_to=dir + f'\\maha_diag_{i}.png')\n",
    "\n",
    "images = []\n",
    "for i in range(10):\n",
    "    images.append(imageio.imread(dir + f'\\maha_{i}.png'))\n",
    "imageio.mimsave(dir + '\\maha.gif', images, duration=2)\n",
    "\n",
    "images = []\n",
    "for i in range(10):\n",
    "    images.append(imageio.imread(dir + f'\\eucl_{i}.png'))\n",
    "imageio.mimsave(dir + '\\eucl.gif', images, duration=2)\n",
    "\n",
    "images = []\n",
    "for i in range(10):\n",
    "    images.append(imageio.imread(dir + f'\\maha_diag_{i}.png'))\n",
    "imageio.mimsave(dir + '\\maha_diag.gif', images, duration=2)\"\"\""
   ]
  }
 ],
 "metadata": {
  "kernelspec": {
   "display_name": "base",
   "language": "python",
   "name": "python3"
  },
  "language_info": {
   "codemirror_mode": {
    "name": "ipython",
    "version": 3
   },
   "file_extension": ".py",
   "mimetype": "text/x-python",
   "name": "python",
   "nbconvert_exporter": "python",
   "pygments_lexer": "ipython3",
   "version": "3.11.5"
  }
 },
 "nbformat": 4,
 "nbformat_minor": 2
}
